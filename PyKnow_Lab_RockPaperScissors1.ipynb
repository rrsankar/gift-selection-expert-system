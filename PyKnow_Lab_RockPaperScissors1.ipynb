{
  "cells": [
    {
      "cell_type": "code",
      "execution_count": 3,
      "metadata": {
        "colab": {},
        "colab_type": "code",
        "id": "z5vVJL2pYCZ5"
      },
      "outputs": [
        {
          "name": "stdout",
          "output_type": "stream",
          "text": [
            "Defaulting to user installation because normal site-packages is not writeable\n",
            "Collecting https://github.com/buguroo/pyknow/archive/v1.7.0.tar.gz\n",
            "  Using cached https://github.com/buguroo/pyknow/archive/v1.7.0.tar.gz\n",
            "  Preparing metadata (setup.py) ... \u001b[?25ldone\n",
            "\u001b[?25hRequirement already satisfied: frozendict==1.2 in /home/praharsh/.local/lib/python3.10/site-packages (from pyknow==1.7.0) (1.2)\n",
            "Requirement already satisfied: schema==0.6.7 in /home/praharsh/.local/lib/python3.10/site-packages (from pyknow==1.7.0) (0.6.7)\n"
          ]
        }
      ],
      "source": [
        "!pip install https://github.com/buguroo/pyknow/archive/v1.7.0.tar.gz"
      ]
    },
    {
      "cell_type": "code",
      "execution_count": 4,
      "metadata": {
        "colab": {},
        "colab_type": "code",
        "id": "dEmO_-Tuzgh7"
      },
      "outputs": [
        {
          "ename": "AttributeError",
          "evalue": "module 'collections' has no attribute 'Mapping'",
          "output_type": "error",
          "traceback": [
            "\u001b[0;31m---------------------------------------------------------------------------\u001b[0m",
            "\u001b[0;31mAttributeError\u001b[0m                            Traceback (most recent call last)",
            "\u001b[1;32m/run/media/praharsh/praharsh/Durham College course/semester 2/Knowledge based expert systems AIDI 2001-01 (Uzair Ahmad)/assignments and submissions/Medical-Expert-System-Knowledge-Base/PyKnow_Lab_RockPaperScissors1.ipynb Cell 2'\u001b[0m in \u001b[0;36m<module>\u001b[0;34m\u001b[0m\n\u001b[0;32m----> <a href='vscode-notebook-cell:/run/media/praharsh/praharsh/Durham%20College%20course/semester%202/Knowledge%20based%20expert%20systems%20AIDI%202001-01%20%28Uzair%20Ahmad%29/assignments%20and%20submissions/Medical-Expert-System-Knowledge-Base/PyKnow_Lab_RockPaperScissors1.ipynb#ch0000001?line=0'>1</a>\u001b[0m \u001b[39mfrom\u001b[39;00m \u001b[39mpyknow\u001b[39;00m \u001b[39mimport\u001b[39;00m \u001b[39m*\u001b[39m\n\u001b[1;32m      <a href='vscode-notebook-cell:/run/media/praharsh/praharsh/Durham%20College%20course/semester%202/Knowledge%20based%20expert%20systems%20AIDI%202001-01%20%28Uzair%20Ahmad%29/assignments%20and%20submissions/Medical-Expert-System-Knowledge-Base/PyKnow_Lab_RockPaperScissors1.ipynb#ch0000001?line=1'>2</a>\u001b[0m \u001b[39mimport\u001b[39;00m \u001b[39mrandom\u001b[39;00m\n",
            "File \u001b[0;32m~/.local/lib/python3.10/site-packages/pyknow/__init__.py:2\u001b[0m, in \u001b[0;36m<module>\u001b[0;34m\u001b[0m\n\u001b[1;32m      <a href='file:///home/praharsh/.local/lib/python3.10/site-packages/pyknow/__init__.py?line=0'>1</a>\u001b[0m \u001b[39mfrom\u001b[39;00m \u001b[39m.\u001b[39;00m\u001b[39mconditionalelement\u001b[39;00m \u001b[39mimport\u001b[39;00m AND, OR, NOT, TEST, EXISTS, FORALL\n\u001b[0;32m----> <a href='file:///home/praharsh/.local/lib/python3.10/site-packages/pyknow/__init__.py?line=1'>2</a>\u001b[0m \u001b[39mfrom\u001b[39;00m \u001b[39m.\u001b[39;00m\u001b[39mengine\u001b[39;00m \u001b[39mimport\u001b[39;00m KnowledgeEngine\n\u001b[1;32m      <a href='file:///home/praharsh/.local/lib/python3.10/site-packages/pyknow/__init__.py?line=2'>3</a>\u001b[0m \u001b[39mfrom\u001b[39;00m \u001b[39m.\u001b[39;00m\u001b[39mfact\u001b[39;00m \u001b[39mimport\u001b[39;00m Fact, InitialFact, Field\n\u001b[1;32m      <a href='file:///home/praharsh/.local/lib/python3.10/site-packages/pyknow/__init__.py?line=3'>4</a>\u001b[0m \u001b[39mfrom\u001b[39;00m \u001b[39m.\u001b[39;00m\u001b[39mfieldconstraint\u001b[39;00m \u001b[39mimport\u001b[39;00m L, W, P\n",
            "File \u001b[0;32m~/.local/lib/python3.10/site-packages/pyknow/engine.py:13\u001b[0m, in \u001b[0;36m<module>\u001b[0;34m\u001b[0m\n\u001b[1;32m     <a href='file:///home/praharsh/.local/lib/python3.10/site-packages/pyknow/engine.py?line=9'>10</a>\u001b[0m \u001b[39mfrom\u001b[39;00m \u001b[39mpyknow\u001b[39;00m \u001b[39mimport\u001b[39;00m abstract\n\u001b[1;32m     <a href='file:///home/praharsh/.local/lib/python3.10/site-packages/pyknow/engine.py?line=11'>12</a>\u001b[0m \u001b[39mfrom\u001b[39;00m \u001b[39mpyknow\u001b[39;00m\u001b[39m.\u001b[39;00m\u001b[39magenda\u001b[39;00m \u001b[39mimport\u001b[39;00m Agenda\n\u001b[0;32m---> <a href='file:///home/praharsh/.local/lib/python3.10/site-packages/pyknow/engine.py?line=12'>13</a>\u001b[0m \u001b[39mfrom\u001b[39;00m \u001b[39mpyknow\u001b[39;00m\u001b[39m.\u001b[39;00m\u001b[39mfact\u001b[39;00m \u001b[39mimport\u001b[39;00m InitialFact\n\u001b[1;32m     <a href='file:///home/praharsh/.local/lib/python3.10/site-packages/pyknow/engine.py?line=13'>14</a>\u001b[0m \u001b[39mfrom\u001b[39;00m \u001b[39mpyknow\u001b[39;00m\u001b[39m.\u001b[39;00m\u001b[39mfactlist\u001b[39;00m \u001b[39mimport\u001b[39;00m FactList\n\u001b[1;32m     <a href='file:///home/praharsh/.local/lib/python3.10/site-packages/pyknow/engine.py?line=14'>15</a>\u001b[0m \u001b[39mfrom\u001b[39;00m \u001b[39mpyknow\u001b[39;00m\u001b[39m.\u001b[39;00m\u001b[39mrule\u001b[39;00m \u001b[39mimport\u001b[39;00m Rule\n",
            "File \u001b[0;32m~/.local/lib/python3.10/site-packages/pyknow/fact.py:9\u001b[0m, in \u001b[0;36m<module>\u001b[0;34m\u001b[0m\n\u001b[1;32m      <a href='file:///home/praharsh/.local/lib/python3.10/site-packages/pyknow/fact.py?line=5'>6</a>\u001b[0m \u001b[39mfrom\u001b[39;00m \u001b[39mschema\u001b[39;00m \u001b[39mimport\u001b[39;00m Schema\n\u001b[1;32m      <a href='file:///home/praharsh/.local/lib/python3.10/site-packages/pyknow/fact.py?line=7'>8</a>\u001b[0m \u001b[39mfrom\u001b[39;00m \u001b[39mpyknow\u001b[39;00m\u001b[39m.\u001b[39;00m\u001b[39mpattern\u001b[39;00m \u001b[39mimport\u001b[39;00m Bindable\n\u001b[0;32m----> <a href='file:///home/praharsh/.local/lib/python3.10/site-packages/pyknow/fact.py?line=8'>9</a>\u001b[0m \u001b[39mfrom\u001b[39;00m \u001b[39mpyknow\u001b[39;00m\u001b[39m.\u001b[39;00m\u001b[39mutils\u001b[39;00m \u001b[39mimport\u001b[39;00m freeze, unfreeze\n\u001b[1;32m     <a href='file:///home/praharsh/.local/lib/python3.10/site-packages/pyknow/fact.py?line=9'>10</a>\u001b[0m \u001b[39mfrom\u001b[39;00m \u001b[39mpyknow\u001b[39;00m\u001b[39m.\u001b[39;00m\u001b[39mconditionalelement\u001b[39;00m \u001b[39mimport\u001b[39;00m OperableCE\n\u001b[1;32m     <a href='file:///home/praharsh/.local/lib/python3.10/site-packages/pyknow/fact.py?line=10'>11</a>\u001b[0m \u001b[39mfrom\u001b[39;00m \u001b[39mpyknow\u001b[39;00m\u001b[39m.\u001b[39;00m\u001b[39mconditionalelement\u001b[39;00m \u001b[39mimport\u001b[39;00m ConditionalElement\n",
            "File \u001b[0;32m~/.local/lib/python3.10/site-packages/pyknow/utils.py:4\u001b[0m, in \u001b[0;36m<module>\u001b[0;34m\u001b[0m\n\u001b[1;32m      <a href='file:///home/praharsh/.local/lib/python3.10/site-packages/pyknow/utils.py?line=0'>1</a>\u001b[0m \u001b[39mfrom\u001b[39;00m \u001b[39mfunctools\u001b[39;00m \u001b[39mimport\u001b[39;00m singledispatch\n\u001b[1;32m      <a href='file:///home/praharsh/.local/lib/python3.10/site-packages/pyknow/utils.py?line=1'>2</a>\u001b[0m \u001b[39mimport\u001b[39;00m \u001b[39mcollections\u001b[39;00m\u001b[39m.\u001b[39;00m\u001b[39mabc\u001b[39;00m\n\u001b[0;32m----> <a href='file:///home/praharsh/.local/lib/python3.10/site-packages/pyknow/utils.py?line=3'>4</a>\u001b[0m \u001b[39mfrom\u001b[39;00m \u001b[39mfrozendict\u001b[39;00m \u001b[39mimport\u001b[39;00m frozendict\n\u001b[1;32m      <a href='file:///home/praharsh/.local/lib/python3.10/site-packages/pyknow/utils.py?line=5'>6</a>\u001b[0m \u001b[39mfrom\u001b[39;00m \u001b[39m.\u001b[39;00m\u001b[39mfieldconstraint\u001b[39;00m \u001b[39mimport\u001b[39;00m P\n\u001b[1;32m      <a href='file:///home/praharsh/.local/lib/python3.10/site-packages/pyknow/utils.py?line=8'>9</a>\u001b[0m \u001b[39mclass\u001b[39;00m \u001b[39mfrozenlist\u001b[39;00m(\u001b[39mtuple\u001b[39m):\n",
            "File \u001b[0;32m~/.local/lib/python3.10/site-packages/frozendict/__init__.py:16\u001b[0m, in \u001b[0;36m<module>\u001b[0;34m\u001b[0m\n\u001b[1;32m     <a href='file:///home/praharsh/.local/lib/python3.10/site-packages/frozendict/__init__.py?line=9'>10</a>\u001b[0m     OrderedDict \u001b[39m=\u001b[39m \u001b[39mNotImplemented\u001b[39m\n\u001b[1;32m     <a href='file:///home/praharsh/.local/lib/python3.10/site-packages/frozendict/__init__.py?line=12'>13</a>\u001b[0m iteritems \u001b[39m=\u001b[39m \u001b[39mgetattr\u001b[39m(\u001b[39mdict\u001b[39m, \u001b[39m'\u001b[39m\u001b[39miteritems\u001b[39m\u001b[39m'\u001b[39m, \u001b[39mdict\u001b[39m\u001b[39m.\u001b[39mitems) \u001b[39m# py2-3 compatibility\u001b[39;00m\n\u001b[0;32m---> <a href='file:///home/praharsh/.local/lib/python3.10/site-packages/frozendict/__init__.py?line=15'>16</a>\u001b[0m \u001b[39mclass\u001b[39;00m \u001b[39mfrozendict\u001b[39;00m(collections\u001b[39m.\u001b[39;49mMapping):\n\u001b[1;32m     <a href='file:///home/praharsh/.local/lib/python3.10/site-packages/frozendict/__init__.py?line=16'>17</a>\u001b[0m     \u001b[39m\"\"\"\u001b[39;00m\n\u001b[1;32m     <a href='file:///home/praharsh/.local/lib/python3.10/site-packages/frozendict/__init__.py?line=17'>18</a>\u001b[0m \u001b[39m    An immutable wrapper around dictionaries that implements the complete :py:class:`collections.Mapping`\u001b[39;00m\n\u001b[1;32m     <a href='file:///home/praharsh/.local/lib/python3.10/site-packages/frozendict/__init__.py?line=18'>19</a>\u001b[0m \u001b[39m    interface. It can be used as a drop-in replacement for dictionaries where immutability is desired.\u001b[39;00m\n\u001b[1;32m     <a href='file:///home/praharsh/.local/lib/python3.10/site-packages/frozendict/__init__.py?line=19'>20</a>\u001b[0m \u001b[39m    \"\"\"\u001b[39;00m\n\u001b[1;32m     <a href='file:///home/praharsh/.local/lib/python3.10/site-packages/frozendict/__init__.py?line=21'>22</a>\u001b[0m     dict_cls \u001b[39m=\u001b[39m \u001b[39mdict\u001b[39m\n",
            "\u001b[0;31mAttributeError\u001b[0m: module 'collections' has no attribute 'Mapping'"
          ]
        }
      ],
      "source": [
        "from pyknow import *\n",
        "import random"
      ]
    },
    {
      "cell_type": "markdown",
      "metadata": {
        "colab_type": "text",
        "id": "w_XIiG14UTjx"
      },
      "source": [
        "# Classes"
      ]
    },
    {
      "cell_type": "markdown",
      "metadata": {
        "colab_type": "text",
        "id": "24XibL6hUYCk"
      },
      "source": [
        "## WinTotals"
      ]
    },
    {
      "cell_type": "code",
      "execution_count": null,
      "metadata": {
        "colab": {},
        "colab_type": "code",
        "id": "4t0lsjKlUaUo"
      },
      "outputs": [],
      "source": [
        "class WinTotals(Fact):\n",
        "    human = Field(int, default=0)\n",
        "    computer = Field(int, default=0)\n",
        "    ties = Field(int, default=0)"
      ]
    },
    {
      "cell_type": "markdown",
      "metadata": {
        "colab_type": "text",
        "id": "JBTnFHgSUeHp"
      },
      "source": [
        "## Results"
      ]
    },
    {
      "cell_type": "code",
      "execution_count": null,
      "metadata": {
        "colab": {},
        "colab_type": "code",
        "id": "ZxvfODISUg_h"
      },
      "outputs": [],
      "source": [
        "class Results(Fact):\n",
        "    winner = Field(str, mandatory=True)\n",
        "    loser = Field(str, mandatory=True)\n",
        "    why = Field(str, mandatory=True)"
      ]
    },
    {
      "cell_type": "markdown",
      "metadata": {
        "colab_type": "text",
        "id": "a2egmwPEUlg6"
      },
      "source": [
        "## ValidAnswer"
      ]
    },
    {
      "cell_type": "code",
      "execution_count": null,
      "metadata": {
        "colab": {},
        "colab_type": "code",
        "id": "Np3zY2k3Unv5"
      },
      "outputs": [],
      "source": [
        "class ValidAnswer(Fact):\n",
        "    answer = Field(str, mandatory=True)\n",
        "    key = Field(str, mandatory=True)"
      ]
    },
    {
      "cell_type": "markdown",
      "metadata": {
        "colab_type": "text",
        "id": "C3UVVV3VVZ5t"
      },
      "source": [
        "## Action, HumanChoice, ComputerChoice"
      ]
    },
    {
      "cell_type": "code",
      "execution_count": null,
      "metadata": {
        "colab": {},
        "colab_type": "code",
        "id": "M-fDOX4dVeQJ"
      },
      "outputs": [],
      "source": [
        "class Action(Fact):\n",
        "    pass\n",
        "\n",
        "\n",
        "class HumanChoice(Fact):\n",
        "    pass\n",
        "\n",
        "\n",
        "class ComputerChoice(Fact):\n",
        "    pass"
      ]
    },
    {
      "cell_type": "markdown",
      "metadata": {
        "colab_type": "text",
        "id": "j_-ABPvOViAO"
      },
      "source": [
        "## RockPaperScissors"
      ]
    },
    {
      "cell_type": "code",
      "execution_count": null,
      "metadata": {
        "colab": {},
        "colab_type": "code",
        "id": "pg51bvnRBXKX"
      },
      "outputs": [],
      "source": [
        "# Subclass KnowledgeEngine\n",
        "# declaring facts: declare(Fact()) \n",
        "# retracting facts: retract(Fact())\n",
        "\n",
        "class RockPaperScissors(KnowledgeEngine):\n",
        "    \n",
        "    @DefFacts()\n",
        "    def game_rules(self):\n",
        "        \"\"\"Declare game rules and valid input keys for the user.\"\"\"\n",
        "        print('DefFacts: setting up game rules.')\n",
        "        self.valid_answers = dict()\n",
        "        \n",
        "        yield Results(winner='rock', loser='scissors', why='Rock smashes scissors')\n",
        "        yield Results(winner='paper', loser='rock', why='Paper covers rock')\n",
        "        yield Results(winner='scissors', loser='paper', why='Scissors cut paper')\n",
        "        yield ValidAnswer(answer='rock', key='r')\n",
        "        yield ValidAnswer(answer='paper', key='p')\n",
        "        yield ValidAnswer(answer='scissors', key='s')\n",
        "\n",
        "        print('All rules in place ...')\n",
        "\n",
        "  \n",
        "    \n",
        "    @Rule() \n",
        "    def startup(self):\n",
        "        print(\"Lets play a game!\")\n",
        "        print(\"You choose rock, paper, or scissors,\")\n",
        "        print(\"and I'll do the same.\")\n",
        "        self.declare(WinTotals(human=0, computer=0, ties=0))\n",
        "        self.declare(Action('get-human-move'))\n",
        "    \n",
        "    @Rule(NOT(Action()),\n",
        "          ValidAnswer(answer=MATCH.answer,\n",
        "                      key=MATCH.key))\n",
        "    def store_valid_answers(self, answer, key):\n",
        "        print('store_valid_answers', key, answer)\n",
        "        self.valid_answers[key] = answer\n",
        "\n",
        "    #\n",
        "    # HUMAN MOVE RULES\n",
        "    #\n",
        "    @Rule(Action('get-human-move'))\n",
        "    def get_human_move(self):\n",
        "        question = \", \".join(\n",
        "            \"{name} ({key})\".format(\n",
        "                name=a[1].title(), key=a[0].upper())\n",
        "            for a in self.valid_answers.items()) + '? '\n",
        "        res = input(question).lower()\n",
        "        self.declare(HumanChoice(res))\n",
        "    \n",
        "    @Rule(AS.f1 << HumanChoice(MATCH.choice),\n",
        "          ValidAnswer(answer=MATCH.answer,\n",
        "                      key=MATCH.choice),\n",
        "          AS.f2 << Action('get-human-move'))\n",
        "    def good_human_move(self, f1, f2, answer):\n",
        "        self.retract(f1)\n",
        "        self.retract(f2)\n",
        "        self.declare(HumanChoice(answer))\n",
        "        self.declare(Action('get-computer-move'))\n",
        "    \n",
        "    # retracting a rule from inference engine\n",
        "    # retract() Removes an existing fact from the factlis\n",
        "    @Rule(AS.f1 << HumanChoice(MATCH.choice),\n",
        "          NOT(ValidAnswer(key=MATCH.choice)),\n",
        "          AS.f2 << Action('get-human-move'))\n",
        "    def bad_human_move(self, f1, f2, choice):\n",
        "        print(\"Sorry %s is not a valid answer\" % choice)\n",
        "        self.retract(f1)\n",
        "        self.retract(f2)\n",
        "        self.declare(Action('get-human-move'))\n",
        "    \n",
        "    #\n",
        "    # COMPUTER MOVE RULES\n",
        "    #\n",
        "    @Rule(AS.f1 << Action('get-computer-move'))\n",
        "    def get_computer_move(self, f1):\n",
        "        choice = random.choice(list(self.valid_answers.values()))\n",
        "        self.retract(f1)\n",
        "        self.declare(ComputerChoice(choice))\n",
        "        self.declare(Action('determine-results'))\n",
        "\n",
        "    #\n",
        "    # WIN DETERMINATION RULES\n",
        "    #\n",
        "    @Rule(AS.f1 << Action('determine-results'),\n",
        "          AS.f2 << ComputerChoice(MATCH.cc),\n",
        "          AS.f3 << HumanChoice(MATCH.hc),\n",
        "          AS.w << WinTotals(computer=MATCH.cw),\n",
        "          Results(winner=MATCH.cc,\n",
        "                  loser=MATCH.hc,\n",
        "                  why=MATCH.explanation))\n",
        "    def computer_wins(self, f1, f2, f3, w, cw, explanation):\n",
        "        self.retract(f1)\n",
        "        self.retract(f2)\n",
        "        self.retract(f3)\n",
        "        self.modify(w, computer=cw + 1)\n",
        "        print(\"Computer wins!\", explanation)\n",
        "        self.declare(Action('determine-play-again'))\n",
        "        \n",
        "    @Rule(AS.f1 << Action('determine-results'),\n",
        "          AS.f2 << ComputerChoice(MATCH.cc),\n",
        "          AS.f3 << HumanChoice(MATCH.hc),\n",
        "          'w' << WinTotals(human=MATCH.hw),\n",
        "          Results(winner=MATCH.hc,\n",
        "                  loser=MATCH.cc,\n",
        "                  why=MATCH.explanation))\n",
        "    def humans_wins(self, f1, f2, f3, w, hw, explanation):\n",
        "        self.retract(f1)\n",
        "        self.retract(f2)\n",
        "        self.retract(f3)\n",
        "        self.modify(w, human=hw + 1)\n",
        "        print(\"You win!\", explanation)\n",
        "        self.declare(Action('determine-play-again'))\n",
        "        \n",
        "    @Rule(AS.f1 << Action('determine-results'),\n",
        "          AS.f2 << ComputerChoice(MATCH.cc),\n",
        "          AS.f3 << HumanChoice(MATCH.cc),\n",
        "          AS.w << WinTotals(ties=MATCH.nt))\n",
        "    def tie(self, f1, f2, f3, w, nt):\n",
        "        self.retract(f1)\n",
        "        self.retract(f2)\n",
        "        self.retract(f3)\n",
        "        self.modify(w, ties=nt + 1)\n",
        "        print(\"Tie! Ha-ha!\")\n",
        "        self.declare(Action('determine-play-again'))\n",
        "    \n",
        "    #\n",
        "    # PLAY AGAIN RULE\n",
        "    #\n",
        "    @Rule(AS.f1 << Action('determine-play-again'),\n",
        "          WinTotals(computer=MATCH.ct,\n",
        "                    human=MATCH.ht,\n",
        "                    ties=MATCH.tt))\n",
        "    def play_again(self, f1, ct, ht, tt):\n",
        "        self.retract(f1)\n",
        "        if not self.yes_or_no(\"Play again?\"):\n",
        "            print(\"You won\", ht, \"game(s).\")\n",
        "            print(\"Computer won\", ct, \"game(s).\")\n",
        "            print(\"We tied\", tt, \"game(s).\")\n",
        "            self.halt()\n",
        "        else:\n",
        "            self.declare(Action('get-human-move'))\n",
        "\n",
        "    def yes_or_no(self, question):\n",
        "        return input(question).upper().startswith('Y')"
      ]
    },
    {
      "cell_type": "markdown",
      "metadata": {
        "colab_type": "text",
        "id": "sZyQeSis6MEd"
      },
      "source": [
        "# Play"
      ]
    },
    {
      "cell_type": "code",
      "execution_count": null,
      "metadata": {
        "colab": {},
        "colab_type": "code",
        "id": "k50k3Lym2i04"
      },
      "outputs": [],
      "source": [
        "rps = RockPaperScissors()"
      ]
    },
    {
      "cell_type": "code",
      "execution_count": null,
      "metadata": {
        "colab": {
          "base_uri": "https://localhost:8080/",
          "height": 286
        },
        "colab_type": "code",
        "id": "LzVmMwp8Bigj",
        "outputId": "3e46bc79-6825-49db-d428-bd5e6b8af80e"
      },
      "outputs": [
        {
          "name": "stdout",
          "output_type": "stream",
          "text": [
            "DefFacts: setting up game rules.\n",
            "All rules in place ...\n",
            "store_valid_answers s scissors\n",
            "store_valid_answers p paper\n",
            "store_valid_answers r rock\n",
            "Lets play a game!\n",
            "You choose rock, paper, or scissors,\n",
            "and I'll do the same.\n",
            "Scissors (S), Paper (P), Rock (R)? f\n",
            "Sorry f is not a valid answer\n",
            "Scissors (S), Paper (P), Rock (R)? r\n",
            "Computer wins! Paper covers rock\n",
            "Play again?n\n",
            "You won 0 game(s).\n",
            "Computer won 1 game(s).\n",
            "We tied 0 game(s).\n"
          ]
        }
      ],
      "source": [
        "rps.reset()\n",
        "rps.run()"
      ]
    }
  ],
  "metadata": {
    "colab": {
      "collapsed_sections": [],
      "name": "PyKnow_Lab_RockPaperScissors.ipynb",
      "provenance": []
    },
    "kernelspec": {
      "display_name": "Python 3",
      "name": "python3"
    },
    "language_info": {
      "codemirror_mode": {
        "name": "ipython",
        "version": 3
      },
      "file_extension": ".py",
      "mimetype": "text/x-python",
      "name": "python",
      "nbconvert_exporter": "python",
      "pygments_lexer": "ipython3",
      "version": "3.10.4"
    }
  },
  "nbformat": 4,
  "nbformat_minor": 0
}
