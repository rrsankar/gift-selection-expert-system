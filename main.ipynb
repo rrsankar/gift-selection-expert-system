{
  "cells": [
    {
      "cell_type": "code",
      "source": [
        "from google.colab import drive\n",
        "drive.mount('/content/drive')"
      ],
      "metadata": {
        "colab": {
          "base_uri": "https://localhost:8080/"
        },
        "id": "YQFyjY9LhW8e",
        "outputId": "94a4f210-779d-4dff-8e98-acaea6a8e72b"
      },
      "id": "YQFyjY9LhW8e",
      "execution_count": 1,
      "outputs": [
        {
          "output_type": "stream",
          "name": "stdout",
          "text": [
            "Drive already mounted at /content/drive; to attempt to forcibly remount, call drive.mount(\"/content/drive\", force_remount=True).\n"
          ]
        }
      ]
    },
    {
      "cell_type": "code",
      "source": [
        "!pip install https://github.com/buguroo/pyknow/archive/v1.7.0.tar.gz"
      ],
      "metadata": {
        "colab": {
          "base_uri": "https://localhost:8080/"
        },
        "id": "59YR4cs7hMw0",
        "outputId": "ab4a27e7-39e3-4118-928f-bab9ce5dc1cd"
      },
      "id": "59YR4cs7hMw0",
      "execution_count": 2,
      "outputs": [
        {
          "output_type": "stream",
          "name": "stdout",
          "text": [
            "Collecting https://github.com/buguroo/pyknow/archive/v1.7.0.tar.gz\n",
            "  Using cached https://github.com/buguroo/pyknow/archive/v1.7.0.tar.gz\n",
            "Requirement already satisfied: frozendict==1.2 in /usr/local/lib/python3.7/dist-packages (from pyknow==1.7.0) (1.2)\n",
            "Requirement already satisfied: schema==0.6.7 in /usr/local/lib/python3.7/dist-packages (from pyknow==1.7.0) (0.6.7)\n"
          ]
        }
      ]
    },
    {
      "cell_type": "code",
      "execution_count": 3,
      "id": "493935f8",
      "metadata": {
        "id": "493935f8"
      },
      "outputs": [],
      "source": [
        "from pyknow import *"
      ]
    },
    {
      "cell_type": "code",
      "source": [
        "path = \"/content/drive/MyDrive/Durham College/AIDI/term 2/KBES/project/ToySelectionExpertSystem/src\""
      ],
      "metadata": {
        "id": "GpPvZTXQhuor"
      },
      "id": "GpPvZTXQhuor",
      "execution_count": 4,
      "outputs": []
    },
    {
      "cell_type": "code",
      "source": [
        "toy_features = []\n",
        "toy_feature_map = {}\n",
        "toy_desc_map = {}"
      ],
      "metadata": {
        "id": "Ztg95dxfbx_o"
      },
      "id": "Ztg95dxfbx_o",
      "execution_count": 5,
      "outputs": []
    },
    {
      "cell_type": "code",
      "execution_count": 6,
      "id": "cb29891d",
      "metadata": {
        "id": "cb29891d"
      },
      "outputs": [],
      "source": [
        "def preprocess():\n",
        "    global toy_features, toy_desc_map\n",
        "\n",
        "    toys_f = open(f\"{path}/toy_names.txt\")\n",
        "    toys_t = toys_f.read()\n",
        "    toys_list = toys_t.split(\"\\n\")\n",
        "    toys_f.close()\n",
        "\n",
        "    for toy_iter in toys_list:\n",
        "\n",
        "        toy_feature_file = open(f\"{path}/toy_features/\" + toy_iter + \".txt\")\n",
        "        toy_features_read = toy_feature_file.read()\n",
        "        toy_features_split = toy_features_read.split(\"\\n\")\n",
        "        toy_features.append(toy_features_split)\n",
        "        toy_feature_map[str(toy_features_split)] = toy_iter\n",
        "        toy_feature_file.close()\n",
        "\n",
        "        toy_desc_file = open(f\"{path}/toy_description/\" + toy_iter + \".txt\")\n",
        "        toy_desc_read = toy_desc_file.read()\n",
        "        toy_desc_map[toy_iter] = toy_desc_read\n",
        "        toy_desc_file.close()"
      ]
    },
    {
      "cell_type": "code",
      "source": [
        "def get_description(toy):\n",
        "    return toy_desc_map[toy]"
      ],
      "metadata": {
        "id": "KaRxCRpjfc5L"
      },
      "id": "KaRxCRpjfc5L",
      "execution_count": 7,
      "outputs": []
    },
    {
      "cell_type": "code",
      "execution_count": 8,
      "id": "47f47f5c",
      "metadata": {
        "id": "47f47f5c"
      },
      "outputs": [],
      "source": [
        "def if_not_matched(toy):\n",
        "    print(\"\")\n",
        "    id_toy = toy\n",
        "    toy_details = get_description(id_toy)\n",
        "    print(\"\")\n",
        "    print(\"The most probable toy that you can buy is %s\\n\" % id_toy)\n",
        "    print(\"A short description of the toy is given below :\\n\")\n",
        "    print(toy_details + \"\\n\")"
      ]
    },
    {
      "cell_type": "code",
      "execution_count": 9,
      "id": "bfdd7eb1",
      "metadata": {
        "id": "bfdd7eb1"
      },
      "outputs": [],
      "source": [
        "class Greetings(KnowledgeEngine):\n",
        "    @DefFacts()\n",
        "    def _initial_action(self):\n",
        "        print(\"\\nHi, I am your toy specialist. I will like to help you choose a toy.\")\n",
        "        print(\"Please answer a few questions, and I can help you out.\")\n",
        "        yield Fact(action=\"find_toy\")\n",
        "\n",
        "    # CHOICES\n",
        "\n",
        "    @Rule(Fact(action='find_toy'), NOT(Fact(age=W())), salience=1)\n",
        "    def choice_0(self):\n",
        "        self.declare(Fact(age=input(\"\\nAge:\\n0-5, 5-10, 10-15 : \")))\n",
        "\n",
        "    @Rule(Fact(action='find_toy'), NOT(Fact(gender=W())), salience=1)\n",
        "    def choice_1(self):\n",
        "        self.declare(Fact(gender=input(\"\\nGender:\\n(male/female) : \")))\n",
        "\n",
        "    @Rule(Fact(action='find_toy'), NOT(Fact(toy_type=W())), salience=1)\n",
        "    def choice_2(self):\n",
        "        self.declare(Fact(toy_type=input(\"\\nToy Type:\\n(A: Action Figure/ O: Outdoors) : \")))\n",
        "\n",
        "    # TOYS\n",
        "\n",
        "    @Rule(Fact(action='find_toy'), Fact(toy_type=\"A\"), Fact(age=\"0-5\"), Fact(gender=\"male\"))\n",
        "    def toy_0(self):\n",
        "        self.declare(Fact(toy=\"Fake_Bugs\"))\n",
        "\n",
        "    @Rule(Fact(action='find_toy'), Fact(toy_type=\"A\"), Fact(age=\"0-5\"), Fact(gender=\"female\"))\n",
        "    def toy_1(self):\n",
        "        self.declare(Fact(toy=\"Squishy_Toys\"))\n",
        "\n",
        "    @Rule(Fact(action='find_toy'), Fact(toy_type=\"A\"), Fact(age=\"5-10\"), Fact(gender=\"male\"))\n",
        "    def toy_2(self):\n",
        "        self.declare(Fact(toy=\"Pokemon_Charizard\"))\n",
        "\n",
        "    @Rule(Fact(action='find_toy'), Fact(toy_type=\"A\"), Fact(age=\"5-10\"), Fact(gender=\"female\"))\n",
        "    def toy_3(self):\n",
        "        self.declare(Fact(toy=\"Nintendo_Kirby\"))\n",
        "\n",
        "    @Rule(Fact(action='find_toy'), Fact(toy_type=\"A\"), Fact(age=\"10-15\"), Fact(gender=\"male\"))\n",
        "    def toy_4(self):\n",
        "        self.declare(Fact(toy=\"Toys_Batman\"))\n",
        "\n",
        "    @Rule(Fact(action='find_toy'), Fact(toy_type=\"A\"), Fact(age=\"10-15\"), Fact(gender=\"female\"))\n",
        "    def toy_5(self):\n",
        "        self.declare(Fact(toy=\"Star_Wars\"))\n",
        "\n",
        "    @Rule(Fact(action='find_toy'), Fact(toy_type=\"O\"), Fact(age=\"0-5\"), Fact(gender=\"male\"))\n",
        "    def toy_6(self):\n",
        "        self.declare(Fact(toy=\"nerf_gun\"))\n",
        "\n",
        "    @Rule(Fact(action='find_toy'), Fact(toy_type=\"O\"), Fact(age=\"0-5\"), Fact(gender=\"female\"))\n",
        "    def toy_7(self):\n",
        "        self.declare(Fact(toy=\"Inflatable_bouncer\"))\n",
        "\n",
        "    @Rule(Fact(action='find_toy'), Fact(toy_type=\"O\"), Fact(age=\"5-10\"), Fact(gender=\"male\"))\n",
        "    def toy_8(self):\n",
        "        self.declare(Fact(toy=\"pool\"))\n",
        "\n",
        "    @Rule(Fact(action='find_toy'), Fact(toy_type=\"O\"), Fact(age=\"5-10\"), Fact(gender=\"female\"))\n",
        "    def toy_9(self):\n",
        "        self.declare(Fact(toy=\"Exercise_Hoops\"))\n",
        "\n",
        "    @Rule(Fact(action='find_toy'), Fact(toy_type=\"O\"), Fact(age=\"10-15\"), Fact(gender=\"male\"))\n",
        "    def toy_10(self):\n",
        "        self.declare(Fact(toy=\"Karaoke_Microphone\"))\n",
        "\n",
        "    @Rule(Fact(action='find_toy'), Fact(toy_type=\"O\"), Fact(age=\"10-15\"), Fact(gender=\"female\"))\n",
        "    def toy_11(self):\n",
        "        self.declare(Fact(toy=\"pool\"))\n",
        "\n",
        "    @Rule(Fact(action='find_toy'), Fact(toy=MATCH.toy), salience=-998)\n",
        "    def toy(self, toy):\n",
        "        print(\"\")\n",
        "        id_toy = toy\n",
        "        toy_details = get_description(id_toy)\n",
        "        print(\"\")\n",
        "        print(\"The most probable toy that you can buy is %s\\n\" % id_toy)\n",
        "        print(\"A short description of the toy is given below :\\n\")\n",
        "        print(toy_details + \"\\n\")\n",
        "\n",
        "    @Rule(Fact(action='find_toy'),\n",
        "          Fact(age=MATCH.age),\n",
        "          Fact(gender=MATCH.gender),\n",
        "          Fact(toy_type=MATCH.toy_type),\n",
        "          NOT(Fact(toy=MATCH.toy)), salience=-999)\n",
        "    def not_matched(self):\n",
        "        print(\"\\nUnfortunately, the system did not find any toy that matches your requirements.\")"
      ]
    },
    {
      "cell_type": "code",
      "execution_count": null,
      "id": "11073d2a",
      "metadata": {
        "id": "11073d2a",
        "colab": {
          "base_uri": "https://localhost:8080/",
          "height": 1000
        },
        "outputId": "625fadad-9d67-4322-b6c4-595881fe8e21"
      },
      "outputs": [
        {
          "name": "stdout",
          "output_type": "stream",
          "text": [
            "\n",
            "Hi, I am your toy specialist. I will like to help you choose a toy.\n",
            "Please answer a few questions, and I can help you out.\n",
            "\n",
            "Toy Type:\n",
            "(A: Action Figure/ O: Outdoors) : A\n",
            "\n",
            "Gender:\n",
            "(male/female) : male\n",
            "\n",
            "Age:\n",
            "0-5, 5-10, 10-15 : 0-5\n",
            "\n",
            "\n",
            "The most probable toy that you can buy is Fake_Bugs\n",
            "\n",
            "A short description of the toy is given below :\n",
            "\n",
            "43 Pack Fake Bugs Mini Realistic Insects Toys for Kids Toddler Children's Birthday Gift Halloween Easter Treats Bugs Insects Goody Bag Filler\n",
            "\n",
            "BIG VALUE PACK OF 43PCS BUGS: You will receive a big value pack of 43pcs fake bugs set, including scorpion, centipede, mantis, locust, longicorn, spider, bee, fly, ant, caterpillar, ladybird, dung beetle, leech, cockroach, cricket, dragonfly, gecko, bat, frog, snake, mouse, colorful butterfly, etc; no duplicated ones\n",
            "\n",
            "Buy this gift from here:\n",
            "https://www.amazon.ca/Pack-Fake-Bugs-Realistic-Insects/dp/B07RF5DK1J\n",
            "\n",
            "\n",
            "\n",
            "Would you like to get another recommendation? [Y: yes | N: no]\n",
            "n\n",
            "\n",
            "Hi, I am your toy specialist. I will like to help you choose a toy.\n",
            "Please answer a few questions, and I can help you out.\n",
            "\n",
            "Toy Type:\n",
            "(A: Action Figure/ O: Outdoors) : No\n"
          ]
        },
        {
          "output_type": "error",
          "ename": "KeyboardInterrupt",
          "evalue": "ignored",
          "traceback": [
            "\u001b[0;31m---------------------------------------------------------------------------\u001b[0m",
            "\u001b[0;31mKeyboardInterrupt\u001b[0m                         Traceback (most recent call last)",
            "\u001b[0;32m/usr/local/lib/python3.7/dist-packages/ipykernel/kernelbase.py\u001b[0m in \u001b[0;36m_input_request\u001b[0;34m(self, prompt, ident, parent, password)\u001b[0m\n\u001b[1;32m    728\u001b[0m             \u001b[0;32mtry\u001b[0m\u001b[0;34m:\u001b[0m\u001b[0;34m\u001b[0m\u001b[0;34m\u001b[0m\u001b[0m\n\u001b[0;32m--> 729\u001b[0;31m                 \u001b[0mident\u001b[0m\u001b[0;34m,\u001b[0m \u001b[0mreply\u001b[0m \u001b[0;34m=\u001b[0m \u001b[0mself\u001b[0m\u001b[0;34m.\u001b[0m\u001b[0msession\u001b[0m\u001b[0;34m.\u001b[0m\u001b[0mrecv\u001b[0m\u001b[0;34m(\u001b[0m\u001b[0mself\u001b[0m\u001b[0;34m.\u001b[0m\u001b[0mstdin_socket\u001b[0m\u001b[0;34m,\u001b[0m \u001b[0;36m0\u001b[0m\u001b[0;34m)\u001b[0m\u001b[0;34m\u001b[0m\u001b[0;34m\u001b[0m\u001b[0m\n\u001b[0m\u001b[1;32m    730\u001b[0m             \u001b[0;32mexcept\u001b[0m \u001b[0mException\u001b[0m\u001b[0;34m:\u001b[0m\u001b[0;34m\u001b[0m\u001b[0;34m\u001b[0m\u001b[0m\n",
            "\u001b[0;32m/usr/local/lib/python3.7/dist-packages/jupyter_client/session.py\u001b[0m in \u001b[0;36mrecv\u001b[0;34m(self, socket, mode, content, copy)\u001b[0m\n\u001b[1;32m    802\u001b[0m         \u001b[0;32mtry\u001b[0m\u001b[0;34m:\u001b[0m\u001b[0;34m\u001b[0m\u001b[0;34m\u001b[0m\u001b[0m\n\u001b[0;32m--> 803\u001b[0;31m             \u001b[0mmsg_list\u001b[0m \u001b[0;34m=\u001b[0m \u001b[0msocket\u001b[0m\u001b[0;34m.\u001b[0m\u001b[0mrecv_multipart\u001b[0m\u001b[0;34m(\u001b[0m\u001b[0mmode\u001b[0m\u001b[0;34m,\u001b[0m \u001b[0mcopy\u001b[0m\u001b[0;34m=\u001b[0m\u001b[0mcopy\u001b[0m\u001b[0;34m)\u001b[0m\u001b[0;34m\u001b[0m\u001b[0;34m\u001b[0m\u001b[0m\n\u001b[0m\u001b[1;32m    804\u001b[0m         \u001b[0;32mexcept\u001b[0m \u001b[0mzmq\u001b[0m\u001b[0;34m.\u001b[0m\u001b[0mZMQError\u001b[0m \u001b[0;32mas\u001b[0m \u001b[0me\u001b[0m\u001b[0;34m:\u001b[0m\u001b[0;34m\u001b[0m\u001b[0;34m\u001b[0m\u001b[0m\n",
            "\u001b[0;32m/usr/local/lib/python3.7/dist-packages/zmq/sugar/socket.py\u001b[0m in \u001b[0;36mrecv_multipart\u001b[0;34m(self, flags, copy, track)\u001b[0m\n\u001b[1;32m    624\u001b[0m         \"\"\"\n\u001b[0;32m--> 625\u001b[0;31m         \u001b[0mparts\u001b[0m \u001b[0;34m=\u001b[0m \u001b[0;34m[\u001b[0m\u001b[0mself\u001b[0m\u001b[0;34m.\u001b[0m\u001b[0mrecv\u001b[0m\u001b[0;34m(\u001b[0m\u001b[0mflags\u001b[0m\u001b[0;34m,\u001b[0m \u001b[0mcopy\u001b[0m\u001b[0;34m=\u001b[0m\u001b[0mcopy\u001b[0m\u001b[0;34m,\u001b[0m \u001b[0mtrack\u001b[0m\u001b[0;34m=\u001b[0m\u001b[0mtrack\u001b[0m\u001b[0;34m)\u001b[0m\u001b[0;34m]\u001b[0m\u001b[0;34m\u001b[0m\u001b[0;34m\u001b[0m\u001b[0m\n\u001b[0m\u001b[1;32m    626\u001b[0m         \u001b[0;31m# have first part already, only loop while more to receive\u001b[0m\u001b[0;34m\u001b[0m\u001b[0;34m\u001b[0m\u001b[0;34m\u001b[0m\u001b[0m\n",
            "\u001b[0;32mzmq/backend/cython/socket.pyx\u001b[0m in \u001b[0;36mzmq.backend.cython.socket.Socket.recv\u001b[0;34m()\u001b[0m\n",
            "\u001b[0;32mzmq/backend/cython/socket.pyx\u001b[0m in \u001b[0;36mzmq.backend.cython.socket.Socket.recv\u001b[0;34m()\u001b[0m\n",
            "\u001b[0;32mzmq/backend/cython/socket.pyx\u001b[0m in \u001b[0;36mzmq.backend.cython.socket._recv_copy\u001b[0;34m()\u001b[0m\n",
            "\u001b[0;32m/usr/local/lib/python3.7/dist-packages/zmq/backend/cython/checkrc.pxd\u001b[0m in \u001b[0;36mzmq.backend.cython.checkrc._check_rc\u001b[0;34m()\u001b[0m\n",
            "\u001b[0;31mKeyboardInterrupt\u001b[0m: ",
            "\nDuring handling of the above exception, another exception occurred:\n",
            "\u001b[0;31mKeyboardInterrupt\u001b[0m                         Traceback (most recent call last)",
            "\u001b[0;32m<ipython-input-10-b2218ebd0666>\u001b[0m in \u001b[0;36m<module>\u001b[0;34m()\u001b[0m\n\u001b[1;32m      3\u001b[0m \u001b[0;32mwhile\u001b[0m \u001b[0;32mTrue\u001b[0m\u001b[0;34m:\u001b[0m\u001b[0;34m\u001b[0m\u001b[0;34m\u001b[0m\u001b[0m\n\u001b[1;32m      4\u001b[0m     \u001b[0mengine\u001b[0m\u001b[0;34m.\u001b[0m\u001b[0mreset\u001b[0m\u001b[0;34m(\u001b[0m\u001b[0;34m)\u001b[0m  \u001b[0;31m# Prepare the engine for the execution.\u001b[0m\u001b[0;34m\u001b[0m\u001b[0;34m\u001b[0m\u001b[0m\n\u001b[0;32m----> 5\u001b[0;31m     \u001b[0mengine\u001b[0m\u001b[0;34m.\u001b[0m\u001b[0mrun\u001b[0m\u001b[0;34m(\u001b[0m\u001b[0;34m)\u001b[0m  \u001b[0;31m# Run it!\u001b[0m\u001b[0;34m\u001b[0m\u001b[0;34m\u001b[0m\u001b[0m\n\u001b[0m\u001b[1;32m      6\u001b[0m     \u001b[0mprint\u001b[0m\u001b[0;34m(\u001b[0m\u001b[0;34m\"\\nWould you like to get another recommendation? [Y: yes | N: no]\"\u001b[0m\u001b[0;34m)\u001b[0m\u001b[0;34m\u001b[0m\u001b[0;34m\u001b[0m\u001b[0m\n\u001b[1;32m      7\u001b[0m     \u001b[0;32mif\u001b[0m \u001b[0minput\u001b[0m\u001b[0;34m(\u001b[0m\u001b[0;34m)\u001b[0m \u001b[0;32min\u001b[0m \u001b[0;34m[\u001b[0m\u001b[0;34m\"N\"\u001b[0m\u001b[0;34m,\u001b[0m \u001b[0;34m\"No\"\u001b[0m\u001b[0;34m,\u001b[0m \u001b[0;34m\"n\"\u001b[0m\u001b[0;34m,\u001b[0m \u001b[0;34m\"no\"\u001b[0m\u001b[0;34m]\u001b[0m\u001b[0;34m:\u001b[0m\u001b[0;34m\u001b[0m\u001b[0;34m\u001b[0m\u001b[0m\n",
            "\u001b[0;32m/usr/local/lib/python3.7/dist-packages/pyknow/engine.py\u001b[0m in \u001b[0;36mrun\u001b[0;34m(self, steps)\u001b[0m\n\u001b[1;32m    166\u001b[0m                     \u001b[0mself\u001b[0m\u001b[0;34m,\u001b[0m\u001b[0;34m\u001b[0m\u001b[0;34m\u001b[0m\u001b[0m\n\u001b[1;32m    167\u001b[0m                     **{k: v\n\u001b[0;32m--> 168\u001b[0;31m                        \u001b[0;32mfor\u001b[0m \u001b[0mk\u001b[0m\u001b[0;34m,\u001b[0m \u001b[0mv\u001b[0m \u001b[0;32min\u001b[0m \u001b[0mactivation\u001b[0m\u001b[0;34m.\u001b[0m\u001b[0mcontext\u001b[0m\u001b[0;34m.\u001b[0m\u001b[0mitems\u001b[0m\u001b[0;34m(\u001b[0m\u001b[0;34m)\u001b[0m\u001b[0;34m\u001b[0m\u001b[0;34m\u001b[0m\u001b[0m\n\u001b[0m\u001b[1;32m    169\u001b[0m                        if not k.startswith('__')})\n\u001b[1;32m    170\u001b[0m \u001b[0;34m\u001b[0m\u001b[0m\n",
            "\u001b[0;32m/usr/local/lib/python3.7/dist-packages/pyknow/rule.py\u001b[0m in \u001b[0;36m__call__\u001b[0;34m(self, *args, **kwargs)\u001b[0m\n\u001b[1;32m     85\u001b[0m                           if k in self._wrapped_args}\n\u001b[1;32m     86\u001b[0m             \u001b[0;32mif\u001b[0m \u001b[0mself\u001b[0m\u001b[0;34m.\u001b[0m\u001b[0m_wrapped_self\u001b[0m \u001b[0;32mis\u001b[0m \u001b[0;32mNone\u001b[0m\u001b[0;34m:\u001b[0m\u001b[0;34m\u001b[0m\u001b[0;34m\u001b[0m\u001b[0m\n\u001b[0;32m---> 87\u001b[0;31m                 \u001b[0;32mreturn\u001b[0m \u001b[0mself\u001b[0m\u001b[0;34m.\u001b[0m\u001b[0m_wrapped\u001b[0m\u001b[0;34m(\u001b[0m\u001b[0;34m*\u001b[0m\u001b[0margs\u001b[0m\u001b[0;34m,\u001b[0m \u001b[0;34m**\u001b[0m\u001b[0mkwargs\u001b[0m\u001b[0;34m)\u001b[0m\u001b[0;34m\u001b[0m\u001b[0;34m\u001b[0m\u001b[0m\n\u001b[0m\u001b[1;32m     88\u001b[0m             \u001b[0;32melse\u001b[0m\u001b[0;34m:\u001b[0m\u001b[0;34m\u001b[0m\u001b[0;34m\u001b[0m\u001b[0m\n\u001b[1;32m     89\u001b[0m                 \u001b[0;32mreturn\u001b[0m \u001b[0mself\u001b[0m\u001b[0;34m.\u001b[0m\u001b[0m_wrapped\u001b[0m\u001b[0;34m(\u001b[0m\u001b[0mself\u001b[0m\u001b[0;34m.\u001b[0m\u001b[0m_wrapped_self\u001b[0m\u001b[0;34m,\u001b[0m \u001b[0;34m*\u001b[0m\u001b[0margs\u001b[0m\u001b[0;34m,\u001b[0m \u001b[0;34m**\u001b[0m\u001b[0mkwargs\u001b[0m\u001b[0;34m)\u001b[0m\u001b[0;34m\u001b[0m\u001b[0;34m\u001b[0m\u001b[0m\n",
            "\u001b[0;32m<ipython-input-9-657e7a67d9e8>\u001b[0m in \u001b[0;36mchoice_1\u001b[0;34m(self)\u001b[0m\n\u001b[1;32m     14\u001b[0m     \u001b[0;34m@\u001b[0m\u001b[0mRule\u001b[0m\u001b[0;34m(\u001b[0m\u001b[0mFact\u001b[0m\u001b[0;34m(\u001b[0m\u001b[0maction\u001b[0m\u001b[0;34m=\u001b[0m\u001b[0;34m'find_toy'\u001b[0m\u001b[0;34m)\u001b[0m\u001b[0;34m,\u001b[0m \u001b[0mNOT\u001b[0m\u001b[0;34m(\u001b[0m\u001b[0mFact\u001b[0m\u001b[0;34m(\u001b[0m\u001b[0mgender\u001b[0m\u001b[0;34m=\u001b[0m\u001b[0mW\u001b[0m\u001b[0;34m(\u001b[0m\u001b[0;34m)\u001b[0m\u001b[0;34m)\u001b[0m\u001b[0;34m)\u001b[0m\u001b[0;34m,\u001b[0m \u001b[0msalience\u001b[0m\u001b[0;34m=\u001b[0m\u001b[0;36m1\u001b[0m\u001b[0;34m)\u001b[0m\u001b[0;34m\u001b[0m\u001b[0;34m\u001b[0m\u001b[0m\n\u001b[1;32m     15\u001b[0m     \u001b[0;32mdef\u001b[0m \u001b[0mchoice_1\u001b[0m\u001b[0;34m(\u001b[0m\u001b[0mself\u001b[0m\u001b[0;34m)\u001b[0m\u001b[0;34m:\u001b[0m\u001b[0;34m\u001b[0m\u001b[0;34m\u001b[0m\u001b[0m\n\u001b[0;32m---> 16\u001b[0;31m         \u001b[0mself\u001b[0m\u001b[0;34m.\u001b[0m\u001b[0mdeclare\u001b[0m\u001b[0;34m(\u001b[0m\u001b[0mFact\u001b[0m\u001b[0;34m(\u001b[0m\u001b[0mgender\u001b[0m\u001b[0;34m=\u001b[0m\u001b[0minput\u001b[0m\u001b[0;34m(\u001b[0m\u001b[0;34m\"\\nGender:\\n(male/female) : \"\u001b[0m\u001b[0;34m)\u001b[0m\u001b[0;34m)\u001b[0m\u001b[0;34m)\u001b[0m\u001b[0;34m\u001b[0m\u001b[0;34m\u001b[0m\u001b[0m\n\u001b[0m\u001b[1;32m     17\u001b[0m \u001b[0;34m\u001b[0m\u001b[0m\n\u001b[1;32m     18\u001b[0m     \u001b[0;34m@\u001b[0m\u001b[0mRule\u001b[0m\u001b[0;34m(\u001b[0m\u001b[0mFact\u001b[0m\u001b[0;34m(\u001b[0m\u001b[0maction\u001b[0m\u001b[0;34m=\u001b[0m\u001b[0;34m'find_toy'\u001b[0m\u001b[0;34m)\u001b[0m\u001b[0;34m,\u001b[0m \u001b[0mNOT\u001b[0m\u001b[0;34m(\u001b[0m\u001b[0mFact\u001b[0m\u001b[0;34m(\u001b[0m\u001b[0mtoy_type\u001b[0m\u001b[0;34m=\u001b[0m\u001b[0mW\u001b[0m\u001b[0;34m(\u001b[0m\u001b[0;34m)\u001b[0m\u001b[0;34m)\u001b[0m\u001b[0;34m)\u001b[0m\u001b[0;34m,\u001b[0m \u001b[0msalience\u001b[0m\u001b[0;34m=\u001b[0m\u001b[0;36m1\u001b[0m\u001b[0;34m)\u001b[0m\u001b[0;34m\u001b[0m\u001b[0;34m\u001b[0m\u001b[0m\n",
            "\u001b[0;32m/usr/local/lib/python3.7/dist-packages/ipykernel/kernelbase.py\u001b[0m in \u001b[0;36mraw_input\u001b[0;34m(self, prompt)\u001b[0m\n\u001b[1;32m    702\u001b[0m             \u001b[0mself\u001b[0m\u001b[0;34m.\u001b[0m\u001b[0m_parent_ident\u001b[0m\u001b[0;34m,\u001b[0m\u001b[0;34m\u001b[0m\u001b[0;34m\u001b[0m\u001b[0m\n\u001b[1;32m    703\u001b[0m             \u001b[0mself\u001b[0m\u001b[0;34m.\u001b[0m\u001b[0m_parent_header\u001b[0m\u001b[0;34m,\u001b[0m\u001b[0;34m\u001b[0m\u001b[0;34m\u001b[0m\u001b[0m\n\u001b[0;32m--> 704\u001b[0;31m             \u001b[0mpassword\u001b[0m\u001b[0;34m=\u001b[0m\u001b[0;32mFalse\u001b[0m\u001b[0;34m,\u001b[0m\u001b[0;34m\u001b[0m\u001b[0;34m\u001b[0m\u001b[0m\n\u001b[0m\u001b[1;32m    705\u001b[0m         )\n\u001b[1;32m    706\u001b[0m \u001b[0;34m\u001b[0m\u001b[0m\n",
            "\u001b[0;32m/usr/local/lib/python3.7/dist-packages/ipykernel/kernelbase.py\u001b[0m in \u001b[0;36m_input_request\u001b[0;34m(self, prompt, ident, parent, password)\u001b[0m\n\u001b[1;32m    732\u001b[0m             \u001b[0;32mexcept\u001b[0m \u001b[0mKeyboardInterrupt\u001b[0m\u001b[0;34m:\u001b[0m\u001b[0;34m\u001b[0m\u001b[0;34m\u001b[0m\u001b[0m\n\u001b[1;32m    733\u001b[0m                 \u001b[0;31m# re-raise KeyboardInterrupt, to truncate traceback\u001b[0m\u001b[0;34m\u001b[0m\u001b[0;34m\u001b[0m\u001b[0;34m\u001b[0m\u001b[0m\n\u001b[0;32m--> 734\u001b[0;31m                 \u001b[0;32mraise\u001b[0m \u001b[0mKeyboardInterrupt\u001b[0m\u001b[0;34m\u001b[0m\u001b[0;34m\u001b[0m\u001b[0m\n\u001b[0m\u001b[1;32m    735\u001b[0m             \u001b[0;32melse\u001b[0m\u001b[0;34m:\u001b[0m\u001b[0;34m\u001b[0m\u001b[0;34m\u001b[0m\u001b[0m\n\u001b[1;32m    736\u001b[0m                 \u001b[0;32mbreak\u001b[0m\u001b[0;34m\u001b[0m\u001b[0;34m\u001b[0m\u001b[0m\n",
            "\u001b[0;31mKeyboardInterrupt\u001b[0m: "
          ]
        }
      ],
      "source": [
        "preprocess()\n",
        "engine = Greetings()\n",
        "while True:\n",
        "    engine.reset()  # Prepare the engine for the execution.\n",
        "    engine.run()  # Run it!\n",
        "    print(\"\\nWould you like to get another recommendation? [Y: yes | N: no]\")\n",
        "    if input() in [\"N\", \"No\", \"n\", \"no\"]:\n",
        "        exit()"
      ]
    },
    {
      "cell_type": "code",
      "source": [
        ""
      ],
      "metadata": {
        "id": "2fUI2YOBhGgL"
      },
      "id": "2fUI2YOBhGgL",
      "execution_count": null,
      "outputs": []
    }
  ],
  "metadata": {
    "kernelspec": {
      "display_name": "Python 3 (ipykernel)",
      "language": "python",
      "name": "python3"
    },
    "language_info": {
      "codemirror_mode": {
        "name": "ipython",
        "version": 3
      },
      "file_extension": ".py",
      "mimetype": "text/x-python",
      "name": "python",
      "nbconvert_exporter": "python",
      "pygments_lexer": "ipython3",
      "version": "3.9.6"
    },
    "colab": {
      "name": "main.ipynb",
      "provenance": [],
      "collapsed_sections": []
    }
  },
  "nbformat": 4,
  "nbformat_minor": 5
}