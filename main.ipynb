{
  "cells": [
    {
      "cell_type": "code",
      "source": [
        "from google.colab import drive\n",
        "drive.mount('/content/drive')"
      ],
      "metadata": {
        "colab": {
          "base_uri": "https://localhost:8080/"
        },
        "id": "YQFyjY9LhW8e",
        "outputId": "b6fdcfea-b1f5-4452-a81e-eb7af3efb2fa"
      },
      "id": "YQFyjY9LhW8e",
      "execution_count": 1,
      "outputs": [
        {
          "output_type": "stream",
          "name": "stdout",
          "text": [
            "Drive already mounted at /content/drive; to attempt to forcibly remount, call drive.mount(\"/content/drive\", force_remount=True).\n"
          ]
        }
      ]
    },
    {
      "cell_type": "code",
      "source": [
        "!pip install https://github.com/buguroo/pyknow/archive/v1.7.0.tar.gz"
      ],
      "metadata": {
        "colab": {
          "base_uri": "https://localhost:8080/"
        },
        "id": "59YR4cs7hMw0",
        "outputId": "a523976b-ebf6-4aa6-ef15-e0175abb756b"
      },
      "id": "59YR4cs7hMw0",
      "execution_count": 2,
      "outputs": [
        {
          "output_type": "stream",
          "name": "stdout",
          "text": [
            "Collecting https://github.com/buguroo/pyknow/archive/v1.7.0.tar.gz\n",
            "  Using cached https://github.com/buguroo/pyknow/archive/v1.7.0.tar.gz\n",
            "Requirement already satisfied: frozendict==1.2 in /usr/local/lib/python3.7/dist-packages (from pyknow==1.7.0) (1.2)\n",
            "Requirement already satisfied: schema==0.6.7 in /usr/local/lib/python3.7/dist-packages (from pyknow==1.7.0) (0.6.7)\n"
          ]
        }
      ]
    },
    {
      "cell_type": "code",
      "execution_count": 3,
      "id": "493935f8",
      "metadata": {
        "id": "493935f8"
      },
      "outputs": [],
      "source": [
        "from pyknow import *"
      ]
    },
    {
      "cell_type": "code",
      "source": [
        "path = \"/content/drive/MyDrive/Durham College/AIDI/term 2/KBES/project/ToySelectionExpertSystem/src\""
      ],
      "metadata": {
        "id": "GpPvZTXQhuor"
      },
      "id": "GpPvZTXQhuor",
      "execution_count": 4,
      "outputs": []
    },
    {
      "cell_type": "code",
      "source": [
        "toy_features = []\n",
        "toy_feature_map = {}\n",
        "toy_desc_map = {}"
      ],
      "metadata": {
        "id": "Ztg95dxfbx_o"
      },
      "id": "Ztg95dxfbx_o",
      "execution_count": 5,
      "outputs": []
    },
    {
      "cell_type": "code",
      "execution_count": 6,
      "id": "cb29891d",
      "metadata": {
        "id": "cb29891d"
      },
      "outputs": [],
      "source": [
        "def preprocess():\n",
        "    global toy_features, toy_desc_map\n",
        "\n",
        "    toys_f = open(f\"{path}/toy_names.txt\")\n",
        "    toys_t = toys_f.read()\n",
        "    toys_list = toys_t.split(\"\\n\")\n",
        "    toys_f.close()\n",
        "\n",
        "    for toy_iter in toys_list:\n",
        "\n",
        "        toy_feature_file = open(f\"{path}/toy_features/\" + toy_iter + \".txt\")\n",
        "        toy_features_read = toy_feature_file.read()\n",
        "        toy_features_split = toy_features_read.split(\"\\n\")\n",
        "        toy_features.append(toy_features_split)\n",
        "        toy_feature_map[str(toy_features_split)] = toy_iter\n",
        "        toy_feature_file.close()\n",
        "\n",
        "        toy_desc_file = open(f\"{path}/toy_description/\" + toy_iter + \".txt\")\n",
        "        toy_desc_read = toy_desc_file.read()\n",
        "        toy_desc_map[toy_iter] = toy_desc_read\n",
        "        toy_desc_file.close()"
      ]
    },
    {
      "cell_type": "code",
      "source": [
        "def get_description(toy):\n",
        "    return toy_desc_map[toy]"
      ],
      "metadata": {
        "id": "KaRxCRpjfc5L"
      },
      "id": "KaRxCRpjfc5L",
      "execution_count": 7,
      "outputs": []
    },
    {
      "cell_type": "code",
      "execution_count": 8,
      "id": "47f47f5c",
      "metadata": {
        "id": "47f47f5c"
      },
      "outputs": [],
      "source": [
        "def if_not_matched(toy):\n",
        "    print(\"\")\n",
        "    id_toy = toy\n",
        "    toy_details = get_description(id_toy)\n",
        "    print(\"\")\n",
        "    print(\"The most probable toy that you can buy is %s\\n\" % id_toy)\n",
        "    print(\"A short description of the toy is given below :\\n\")\n",
        "    print(toy_details + \"\\n\")"
      ]
    },
    {
      "cell_type": "code",
      "execution_count": 9,
      "id": "bfdd7eb1",
      "metadata": {
        "id": "bfdd7eb1"
      },
      "outputs": [],
      "source": [
        "class Greetings(KnowledgeEngine):\n",
        "    @DefFacts()\n",
        "    def _initial_action(self):\n",
        "        print(\"\\nHi, I am your toy specialist. I will like to help you choose a toy.\")\n",
        "        print(\"Please answer a few questions, and I can help you out.\")\n",
        "        yield Fact(action=\"find_toy\")\n",
        "\n",
        "    # CHOICES\n",
        "\n",
        "    @Rule(Fact(action='find_toy'), NOT(Fact(age=W())), salience=1)\n",
        "    def choice_0(self):\n",
        "        self.declare(Fact(age=input(\"\\nAge:\\n0-5, 5-10, 10-15 : \")))\n",
        "\n",
        "    @Rule(Fact(action='find_toy'), NOT(Fact(gender=W())), salience=1)\n",
        "    def choice_1(self):\n",
        "        self.declare(Fact(gender=input(\"\\nGender:\\n(male/female) : \")))\n",
        "\n",
        "    @Rule(Fact(action='find_toy'), NOT(Fact(toy_type=W())), salience=1)\n",
        "    def choice_2(self):\n",
        "        self.declare(Fact(toy_type=input(\"\\nToy Type:\\n(A: Action Figure/ O: Outdoors) : \")))\n",
        "\n",
        "    # TOYS\n",
        "\n",
        "    @Rule(Fact(action='find_toy'), Fact(toy_type=\"A\"), Fact(age=\"0-5\"), Fact(gender=\"male\"))\n",
        "    def toy_0(self):\n",
        "        self.declare(Fact(toy=\"Fake_Bugs\"))\n",
        "\n",
        "    @Rule(Fact(action='find_toy'), Fact(toy_type=\"A\"), Fact(age=\"0-5\"), Fact(gender=\"female\"))\n",
        "    def toy_1(self):\n",
        "        self.declare(Fact(toy=\"Squishy_Toys\"))\n",
        "\n",
        "    @Rule(Fact(action='find_toy'), Fact(toy_type=\"A\"), Fact(age=\"5-10\"), Fact(gender=\"male\"))\n",
        "    def toy_2(self):\n",
        "        self.declare(Fact(toy=\"Pokemon_Charizard\"))\n",
        "\n",
        "    @Rule(Fact(action='find_toy'), Fact(toy_type=\"A\"), Fact(age=\"5-10\"), Fact(gender=\"female\"))\n",
        "    def toy_3(self):\n",
        "        self.declare(Fact(toy=\"Nintendo_Kirby\"))\n",
        "\n",
        "    @Rule(Fact(action='find_toy'), Fact(toy_type=\"A\"), Fact(age=\"10-15\"), Fact(gender=\"male\"))\n",
        "    def toy_4(self):\n",
        "        self.declare(Fact(toy=\"Toys_Batman\"))\n",
        "\n",
        "    @Rule(Fact(action='find_toy'), Fact(toy_type=\"A\"), Fact(age=\"10-15\"), Fact(gender=\"female\"))\n",
        "    def toy_5(self):\n",
        "        self.declare(Fact(toy=\"Star_Wars\"))\n",
        "\n",
        "    @Rule(Fact(action='find_toy'), Fact(toy_type=\"O\"), Fact(age=\"0-5\"), Fact(gender=\"male\"))\n",
        "    def toy_6(self):\n",
        "        self.declare(Fact(toy=\"nerf_gun\"))\n",
        "\n",
        "    @Rule(Fact(action='find_toy'), Fact(toy_type=\"O\"), Fact(age=\"0-5\"), Fact(gender=\"female\"))\n",
        "    def toy_7(self):\n",
        "        self.declare(Fact(toy=\"Inflatable_bouncer\"))\n",
        "\n",
        "    @Rule(Fact(action='find_toy'), Fact(toy_type=\"O\"), Fact(age=\"5-10\"), Fact(gender=\"male\"))\n",
        "    def toy_8(self):\n",
        "        self.declare(Fact(toy=\"pool\"))\n",
        "\n",
        "    @Rule(Fact(action='find_toy'), Fact(toy_type=\"O\"), Fact(age=\"5-10\"), Fact(gender=\"female\"))\n",
        "    def toy_9(self):\n",
        "        self.declare(Fact(toy=\"Exercise_Hoops\"))\n",
        "\n",
        "    @Rule(Fact(action='find_toy'), Fact(toy_type=\"O\"), Fact(age=\"10-15\"), Fact(gender=\"male\"))\n",
        "    def toy_10(self):\n",
        "        self.declare(Fact(toy=\"Karaoke_Microphone\"))\n",
        "\n",
        "    @Rule(Fact(action='find_toy'), Fact(toy_type=\"O\"), Fact(age=\"10-15\"), Fact(gender=\"female\"))\n",
        "    def toy_11(self):\n",
        "        self.declare(Fact(toy=\"pool\"))\n",
        "\n",
        "    @Rule(Fact(action='find_toy'), Fact(toy=MATCH.toy), salience=-998)\n",
        "    def toy(self, toy):\n",
        "        print(\"\")\n",
        "        id_toy = toy\n",
        "        toy_details = get_description(id_toy)\n",
        "        print(\"\")\n",
        "        print(\"The most probable toy that you can buy is %s\\n\" % id_toy)\n",
        "        print(\"A short description of the toy is given below :\\n\")\n",
        "        print(toy_details + \"\\n\")\n",
        "\n",
        "    @Rule(Fact(action='find_toy'),\n",
        "          Fact(age=MATCH.age),\n",
        "          Fact(gender=MATCH.gender),\n",
        "          Fact(toy_type=MATCH.toy_type),\n",
        "          NOT(Fact(toy=MATCH.toy)), salience=-999)\n",
        "    def not_matched(self):\n",
        "        print(\"\\nUnfortunately, the system did not find any toy that matches your requirements.\")"
      ]
    },
    {
      "cell_type": "code",
      "execution_count": 13,
      "id": "11073d2a",
      "metadata": {
        "id": "11073d2a",
        "colab": {
          "base_uri": "https://localhost:8080/"
        },
        "outputId": "c33fcd07-2085-42fb-a686-3ae9ae8fd948"
      },
      "outputs": [
        {
          "name": "stdout",
          "output_type": "stream",
          "text": [
            "\n",
            "Hi, I am your toy specialist. I will like to help you choose a toy.\n",
            "Please answer a few questions, and I can help you out.\n",
            "\n",
            "Toy Type:\n",
            "(A: Action Figure/ O: Outdoors) : A\n",
            "\n",
            "Gender:\n",
            "(male/female) : male\n",
            "\n",
            "Age:\n",
            "0-5, 5-10, 10-15 : 0-5\n",
            "\n",
            "\n",
            "The most probable toy that you can buy is Fake_Bugs\n",
            "\n",
            "A short description of the toy is given below :\n",
            "\n",
            "43 Pack Fake Bugs Mini Realistic Insects Toys for Kids Toddler Children's Birthday Gift Halloween Easter Treats Bugs Insects Goody Bag Filler\n",
            "\n",
            "BIG VALUE PACK OF 43PCS BUGS: You will receive a big value pack of 43pcs fake bugs set, including scorpion, centipede, mantis, locust, longicorn, spider, bee, fly, ant, caterpillar, ladybird, dung beetle, leech, cockroach, cricket, dragonfly, gecko, bat, frog, snake, mouse, colorful butterfly, etc; no duplicated ones\n",
            "\n",
            "Buy this gift from here:\n",
            "https://www.amazon.ca/Pack-Fake-Bugs-Realistic-Insects/dp/B07RF5DK1J\n",
            "\n",
            "\n",
            "\n",
            "Would you like to get another recommendation? [Y: yes | N: no]\n",
            "Y\n",
            "\n",
            "Hi, I am your toy specialist. I will like to help you choose a toy.\n",
            "Please answer a few questions, and I can help you out.\n",
            "\n",
            "Toy Type:\n",
            "(A: Action Figure/ O: Outdoors) : O\n",
            "\n",
            "Gender:\n",
            "(male/female) : female\n",
            "\n",
            "Age:\n",
            "0-5, 5-10, 10-15 : 5-10\n",
            "\n",
            "\n",
            "The most probable toy that you can buy is Exercise_Hoops\n",
            "\n",
            "A short description of the toy is given below :\n",
            "\n",
            "Beakabao Exercise Hoops Set for Kids(6 Parts), Weight and Size Adjustable Detachable Fitness Toys, Suitable for Gymnastics, Dance, Party, Games and Pet Training, 29 Inches\n",
            "\n",
            "The Beakabao exercise hoop consists of 6 pieces. It can be adjusted according to the child of different body types. Recommended to use 6 pieces (diameter 29in) or 5 pieces (22in diameter).\n",
            "The inner tube of hoops are hollow, so the weight can be adjusted by adding counterweights (such as rice, sand, grains, beans, etc.) to meet the weight needs of different children.\n",
            "Plastic fitness hoop is suitable for all members of the family. Children's fitness, gymnastics, game props for various party activities, pet training toys, etc. These are fun for competitions, jumping through, timed hopping, or as a guide for round walking games.\n",
            "Made of high quality raw materials, our process requirements are very strict! Beakabao's fitness toy hoops are durable and strong enough to withstand any weight you want to add. It's definitely not a cheap sheet!\n",
            "\n",
            "Buy this gift from here:\n",
            "https://www.amazon.ca/Beakabao-Adjustable-Detachable-Suitable-Gymnastics/dp/B07X4FCZDR/ref=sr_1_71_sspa?crid=2VVQ5N1RWD7PO&keywords=female+kid+toys&qid=1649735739&sprefix=female+kid+toys%2Caps%2C93&sr=8-71-spons&psc=1&spLa=ZW5jcnlwdGVkUXVhbGlmaWVyPUEyRlg0WkNJN0ZaRzM3JmVuY3J5cHRlZElkPUEwMzU2MDc5MlUwNkc2OEFLT0sxTCZlbmNyeXB0ZWRBZElkPUEwMDA2NDcxM0pTVDZNUU41V0pBTSZ3aWRnZXROYW1lPXNwX210ZiZhY3Rpb249Y2xpY2tSZWRpcmVjdCZkb05vdExvZ0NsaWNrPXRydWU=\n",
            "\n",
            "\n",
            "\n",
            "Would you like to get another recommendation? [Y: yes | N: no]\n",
            "N\n"
          ]
        }
      ],
      "source": [
        "preprocess()\n",
        "engine = Greetings()\n",
        "\n",
        "choice = True\n",
        "while choice is True:\n",
        "    engine.reset()  # Prepare the engine for the execution.\n",
        "    engine.run()  # Run it!\n",
        "    print(\"\\nWould you like to get another recommendation? [Y: yes | N: no]\")\n",
        "    if input() == \"N\":\n",
        "        choice = False"
      ]
    }
  ],
  "metadata": {
    "kernelspec": {
      "display_name": "Python 3 (ipykernel)",
      "language": "python",
      "name": "python3"
    },
    "language_info": {
      "codemirror_mode": {
        "name": "ipython",
        "version": 3
      },
      "file_extension": ".py",
      "mimetype": "text/x-python",
      "name": "python",
      "nbconvert_exporter": "python",
      "pygments_lexer": "ipython3",
      "version": "3.9.6"
    },
    "colab": {
      "name": "main.ipynb",
      "provenance": [],
      "collapsed_sections": []
    }
  },
  "nbformat": 4,
  "nbformat_minor": 5
}