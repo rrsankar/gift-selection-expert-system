{
  "cells": [
    {
      "cell_type": "code",
      "execution_count": null,
      "metadata": {
        "colab": {
          "base_uri": "https://localhost:8080/"
        },
        "id": "0HwZi7aemX8x",
        "outputId": "4753e198-fa8f-4141-f941-5e9cb4994fc9"
      },
      "outputs": [],
      "source": [
        "!python --version"
      ]
    },
    {
      "cell_type": "code",
      "execution_count": null,
      "metadata": {
        "colab": {
          "base_uri": "https://localhost:8080/"
        },
        "id": "TrXrVIJGiPUj",
        "outputId": "8cab312c-8834-4319-bfe7-8134dbba0a6f"
      },
      "outputs": [],
      "source": [
        "!pip install https://github.com/buguroo/pyknow/archive/v1.7.0.tar.gz"
      ]
    },
    {
      "cell_type": "markdown",
      "metadata": {
        "id": "3UOBfzwbtcYz"
      },
      "source": [
        "Import all the needed file"
      ]
    },
    {
      "cell_type": "code",
      "execution_count": null,
      "metadata": {
        "id": "qBlEcwc6tWSN"
      },
      "outputs": [],
      "source": [
        "from pyknow import *"
      ]
    },
    {
      "cell_type": "markdown",
      "metadata": {
        "id": "F3lHhwzytpQb"
      },
      "source": [
        "Define the list of all the list"
      ]
    },
    {
      "cell_type": "code",
      "execution_count": null,
      "metadata": {
        "id": "CkWfoLu9tZXp"
      },
      "outputs": [],
      "source": [
        "toys_list = []\n",
        "toys_symptoms = []\n",
        "symptom_map = {}\n",
        "d_desc_map = {}\n",
        "d_treatment_map = {}"
      ]
    },
    {
      "cell_type": "markdown",
      "metadata": {
        "id": "FlAK0mNPum79"
      },
      "source": [
        "Define all the preprocessing"
      ]
    },
    {
      "cell_type": "code",
      "execution_count": null,
      "metadata": {
        "id": "zYiPXU7at9LP"
      },
      "outputs": [],
      "source": [
        "def preprocess():\n",
        "\tglobal toys_list,toys_symptoms,symptom_map,d_desc_map,d_treatment_map\n",
        "\n",
        "\t# Read the available toys from the root toys.txt file\n",
        "\ttoys = open(\"toys.txt\")\n",
        "\ttoys_t = toys.read()\n",
        "\ttoys_list = toys_t.split(\"\\n\")\n",
        "\ttoys.close()\n",
        " \n",
        " # Iterate throught each toys and load the facts, rules and inference explaination\n",
        "\tfor toy in toys_list:\n",
        "\t\ttoy_s_file = open(\"toy_facts/\" + toy + \".txt\")\n",
        "\t\ttoy_s_data = toy_s_file.read()\n",
        "\t\ts_list = toy_s_data.split(\"\\n\")\n",
        "\t\ttoys_symptoms.append(s_list)\n",
        "\t\tsymptom_map[str(s_list)] = toy\n",
        "\t\ttoy_s_file.close()\n",
        "\t\ttoy_s_file = open(\"toy_description/\" + toy + \".txt\")\n",
        "\t\ttoy_s_data = toy_s_file.read()\n",
        "\t\td_desc_map[toy] = toy_s_data\n",
        "\t\ttoy_s_file.close()\n",
        "\t\ttoy_s_file = open(\"toy_rules/\" + toy + \".txt\")\n",
        "\t\ttoy_s_data = toy_s_file.read()\n",
        "\t\td_treatment_map[toy] = toy_s_data\n",
        "\t\ttoy_s_file.close()"
      ]
    },
    {
      "cell_type": "code",
      "execution_count": null,
      "metadata": {
        "id": "goy-tZLRiLuD"
      },
      "outputs": [],
      "source": [
        "def identify_toy(*arguments):\n",
        "\tsymptom_list = []\n",
        "\tfor symptom in arguments:\n",
        "\t\tsymptom_list.append(symptom)\n",
        "\t# Handle key error\n",
        "\treturn symptom_map[str(symptom_list)]\n",
        "\n",
        "def get_details(toy):\n",
        "  if (toy):\n",
        "    return \"\";\n",
        "  else:\n",
        "\t  return d_desc_map[toy]\n",
        "\n",
        "def get_treatments(toy):\n",
        "\treturn d_treatment_map[toy]\n",
        "\n",
        "def if_not_matched(toy):\n",
        "\t\tprint(\"\")\n",
        "\t\tid_toy = toy\n",
        "\t\ttoy_details = get_details(id_toy)\n",
        "\t\ttreatments = get_treatments(id_toy)\n",
        "\t\tprint(\"\")\n",
        "\t\tprint(\"The most probable toy that you have is %s\\n\" %(id_toy))\n",
        "\t\tprint(\"A short description of the toy is given below :\\n\")\n",
        "\t\tprint(toy_details+\"\\n\")\n",
        "\t\tprint(\"The common medications and procedures suggested by other real doctors are: \\n\")\n",
        "\t\tprint(treatments+\"\\n\")\n",
        "  \n",
        "class Greetings(KnowledgeEngine):\n",
        "\t@DefFacts()\n",
        "\tdef _initial_action(self):\n",
        "\t\tprint(\"\")\n",
        "\t\tprint(\"Hi! your toy specialist!\")\n",
        "\t\tprint(\"I will like to help you choose a toy!\")\n",
        "\t\tprint(\"Please select from the following questions:\")\n",
        "\t\tprint(\"\")\n",
        "\t\tyield Fact(action=\"find_toy\")\n",
        "\n",
        "\n",
        "\t@Rule(Fact(action='find_toy'), NOT(Fact(headache=W())),salience = 1)\n",
        "\tdef symptom_0(self):\n",
        "\t\tself.declare(Fact(headache=input(\"headache: \")))\n",
        "\n",
        "\t@Rule(Fact(action='find_toy'), NOT(Fact(back_pain=W())),salience = 1)\n",
        "\tdef symptom_1(self):\n",
        "\t\tself.declare(Fact(back_pain=input(\"back pain: \")))\n",
        "\n",
        "\t@Rule(Fact(action='find_toy'), NOT(Fact(chest_pain=W())),salience = 1)\n",
        "\tdef symptom_2(self):\n",
        "\t\tself.declare(Fact(chest_pain=input(\"chest pain: \")))\n",
        "\n",
        "\t@Rule(Fact(action='find_toy'), NOT(Fact(cough=W())),salience = 1)\n",
        "\tdef symptom_3(self):\n",
        "\t\tself.declare(Fact(cough=input(\"cough: \")))\n",
        "\n",
        "\t@Rule(Fact(action='find_toy'), NOT(Fact(fainting=W())),salience = 1)\n",
        "\tdef symptom_4(self):\n",
        "\t\tself.declare(Fact(fainting=input(\"fainting: \")))\n",
        "\n",
        "\t@Rule(Fact(action='find_toy'), NOT(Fact(fatigue=W())),salience = 1)\n",
        "\tdef symptom_5(self):\n",
        "\t\tself.declare(Fact(fatigue=input(\"fatigue: \")))\n",
        "\t \n",
        "\t@Rule(Fact(action='find_toy'), NOT(Fact(sunken_eyes=W())),salience = 1)\n",
        "\tdef symptom_6(self):\n",
        "\t\tself.declare(Fact(sunken_eyes=input(\"sunken eyes: \")))\n",
        "\t\n",
        "\t@Rule(Fact(action='find_toy'), NOT(Fact(low_body_temp=W())),salience = 1)\n",
        "\tdef symptom_7(self):\n",
        "\t\tself.declare(Fact(low_body_temp=input(\"low body temperature: \")))\n",
        "\t\n",
        "\t@Rule(Fact(action='find_toy'), NOT(Fact(restlessness=W())),salience = 1)\n",
        "\tdef symptom_8(self):\n",
        "\t\tself.declare(Fact(restlessness=input(\"restlessness: \")))\n",
        "\t\n",
        "\t@Rule(Fact(action='find_toy'), NOT(Fact(sore_throat=W())),salience = 1)\n",
        "\tdef symptom_9(self):\n",
        "\t\tself.declare(Fact(sore_throat=input(\"sore throat: \")))\n",
        "\t\n",
        "\t@Rule(Fact(action='find_toy'), NOT(Fact(fever=W())),salience = 1)\n",
        "\tdef symptom_10(self):\n",
        "\t\tself.declare(Fact(fever=input(\"fever: \")))\n",
        "\n",
        "\t@Rule(Fact(action='find_toy'), NOT(Fact(nausea=W())),salience = 1)\n",
        "\tdef symptom_11(self):\n",
        "\t\tself.declare(Fact(nausea=input(\"Nausea: \")))\n",
        "\n",
        "\t@Rule(Fact(action='find_toy'), NOT(Fact(blurred_vision=W())),salience = 1)\n",
        "\tdef symptom_12(self):\n",
        "\t\tself.declare(Fact(blurred_vision=input(\"blurred_vision: \")))\n",
        "\n",
        "\t@Rule(Fact(action='find_toy'),Fact(headache=\"no\"),Fact(back_pain=\"no\"),Fact(chest_pain=\"no\"),Fact(cough=\"no\"),Fact(fainting=\"no\"),Fact(sore_throat=\"no\"),Fact(fatigue=\"yes\"),Fact(restlessness=\"no\"),Fact(low_body_temp=\"no\"),Fact(fever=\"yes\"),Fact(sunken_eyes=\"no\"),Fact(nausea=\"yes\"),Fact(blurred_vision=\"no\"))\n",
        "\tdef toy_0(self):\n",
        "\t\tself.declare(Fact(toy=\"Jaundice\"))\n",
        "\n",
        "\t@Rule(Fact(action='find_toy'),Fact(headache=\"no\"),Fact(back_pain=\"no\"),Fact(chest_pain=\"no\"),Fact(cough=\"no\"),Fact(fainting=\"no\"),Fact(sore_throat=\"no\"),Fact(fatigue=\"no\"),Fact(restlessness=\"yes\"),Fact(low_body_temp=\"no\"),Fact(fever=\"no\"),Fact(sunken_eyes=\"no\"),Fact(nausea=\"no\"),Fact(blurred_vision=\"no\"))\n",
        "\tdef toy_1(self):\n",
        "\t\tself.declare(Fact(toy=\"Alzheimers\"))\n",
        "\n",
        "\t@Rule(Fact(action='find_toy'),Fact(headache=\"no\"),Fact(back_pain=\"yes\"),Fact(chest_pain=\"no\"),Fact(cough=\"no\"),Fact(fainting=\"no\"),Fact(sore_throat=\"no\"),Fact(fatigue=\"yes\"),Fact(restlessness=\"no\"),Fact(low_body_temp=\"no\"),Fact(fever=\"no\"),Fact(sunken_eyes=\"no\"),Fact(nausea=\"no\"),Fact(blurred_vision=\"no\"))\n",
        "\tdef toy_2(self):\n",
        "\t\tself.declare(Fact(toy=\"Arthritis\"))\n",
        "\n",
        "\t@Rule(Fact(action='find_toy'),Fact(headache=\"no\"),Fact(back_pain=\"no\"),Fact(chest_pain=\"yes\"),Fact(cough=\"yes\"),Fact(fainting=\"no\"),Fact(sore_throat=\"no\"),Fact(fatigue=\"no\"),Fact(restlessness=\"no\"),Fact(low_body_temp=\"no\"),Fact(fever=\"yes\"),Fact(sunken_eyes=\"no\"),Fact(nausea=\"no\"),Fact(blurred_vision=\"no\"))\n",
        "\tdef toy_3(self):\n",
        "\t\tself.declare(Fact(toy=\"Tuberculosis\"))\n",
        "\n",
        "\t@Rule(Fact(action='find_toy'),Fact(headache=\"no\"),Fact(back_pain=\"no\"),Fact(chest_pain=\"yes\"),Fact(cough=\"yes\"),Fact(fainting=\"no\"),Fact(sore_throat=\"no\"),Fact(fatigue=\"no\"),Fact(restlessness=\"yes\"),Fact(low_body_temp=\"no\"),Fact(fever=\"no\"),Fact(sunken_eyes=\"no\"),Fact(nausea=\"no\"),Fact(blurred_vision=\"no\"))\n",
        "\tdef toy_4(self):\n",
        "\t\tself.declare(Fact(toy=\"Asthma\"))\n",
        "\n",
        "\t@Rule(Fact(action='find_toy'),Fact(headache=\"yes\"),Fact(back_pain=\"no\"),Fact(chest_pain=\"no\"),Fact(cough=\"yes\"),Fact(fainting=\"no\"),Fact(sore_throat=\"yes\"),Fact(fatigue=\"no\"),Fact(restlessness=\"no\"),Fact(low_body_temp=\"no\"),Fact(fever=\"yes\"),Fact(sunken_eyes=\"no\"),Fact(nausea=\"no\"),Fact(blurred_vision=\"no\"))\n",
        "\tdef toy_5(self):\n",
        "\t\tself.declare(Fact(toy=\"Sinusitis\"))\n",
        "\n",
        "\t@Rule(Fact(action='find_toy'),Fact(headache=\"no\"),Fact(back_pain=\"no\"),Fact(chest_pain=\"no\"),Fact(cough=\"no\"),Fact(fainting=\"no\"),Fact(sore_throat=\"no\"),Fact(fatigue=\"yes\"),Fact(restlessness=\"no\"),Fact(low_body_temp=\"no\"),Fact(fever=\"no\"),Fact(sunken_eyes=\"no\"),Fact(nausea=\"no\"),Fact(blurred_vision=\"no\"))\n",
        "\tdef toy_6(self):\n",
        "\t\tself.declare(Fact(toy=\"Epilepsy\"))\n",
        "\n",
        "\t@Rule(Fact(action='find_toy'),Fact(headache=\"no\"),Fact(back_pain=\"no\"),Fact(chest_pain=\"yes\"),Fact(cough=\"no\"),Fact(fainting=\"no\"),Fact(sore_throat=\"no\"),Fact(fatigue=\"no\"),Fact(restlessness=\"no\"),Fact(low_body_temp=\"no\"),Fact(fever=\"no\"),Fact(sunken_eyes=\"no\"),Fact(nausea=\"yes\"),Fact(blurred_vision=\"no\"))\n",
        "\tdef toy_7(self):\n",
        "\t\tself.declare(Fact(toy=\"Heart toy\"))\n",
        "\n",
        "\t@Rule(Fact(action='find_toy'),Fact(headache=\"no\"),Fact(back_pain=\"no\"),Fact(chest_pain=\"no\"),Fact(cough=\"no\"),Fact(fainting=\"no\"),Fact(sore_throat=\"no\"),Fact(fatigue=\"yes\"),Fact(restlessness=\"no\"),Fact(low_body_temp=\"no\"),Fact(fever=\"no\"),Fact(sunken_eyes=\"no\"),Fact(nausea=\"yes\"),Fact(blurred_vision=\"yes\"))\n",
        "\tdef toy_8(self):\n",
        "\t\tself.declare(Fact(toy=\"Diabetes\"))\n",
        "\n",
        "\t@Rule(Fact(action='find_toy'),Fact(headache=\"yes\"),Fact(back_pain=\"no\"),Fact(chest_pain=\"no\"),Fact(cough=\"no\"),Fact(fainting=\"no\"),Fact(sore_throat=\"no\"),Fact(fatigue=\"no\"),Fact(restlessness=\"no\"),Fact(low_body_temp=\"no\"),Fact(fever=\"no\"),Fact(sunken_eyes=\"no\"),Fact(nausea=\"yes\"),Fact(blurred_vision=\"yes\"))\n",
        "\tdef toy_9(self):\n",
        "\t\tself.declare(Fact(toy=\"Glaucoma\"))\n",
        "\n",
        "\t@Rule(Fact(action='find_toy'),Fact(headache=\"no\"),Fact(back_pain=\"no\"),Fact(chest_pain=\"no\"),Fact(cough=\"no\"),Fact(fainting=\"no\"),Fact(sore_throat=\"no\"),Fact(fatigue=\"yes\"),Fact(restlessness=\"no\"),Fact(low_body_temp=\"no\"),Fact(fever=\"no\"),Fact(sunken_eyes=\"no\"),Fact(nausea=\"yes\"),Fact(blurred_vision=\"no\"))\n",
        "\tdef toy_10(self):\n",
        "\t\tself.declare(Fact(toy=\"Hyperthyroidism\"))\n",
        "\n",
        "\t@Rule(Fact(action='find_toy'),Fact(headache=\"yes\"),Fact(back_pain=\"no\"),Fact(chest_pain=\"no\"),Fact(cough=\"no\"),Fact(fainting=\"no\"),Fact(sore_throat=\"no\"),Fact(fatigue=\"no\"),Fact(restlessness=\"no\"),Fact(low_body_temp=\"no\"),Fact(fever=\"yes\"),Fact(sunken_eyes=\"no\"),Fact(nausea=\"yes\"),Fact(blurred_vision=\"no\"))\n",
        "\tdef toy_11(self):\n",
        "\t\tself.declare(Fact(toy=\"Heat Stroke\"))\n",
        "\n",
        "\t@Rule(Fact(action='find_toy'),Fact(headache=\"no\"),Fact(back_pain=\"no\"),Fact(chest_pain=\"no\"),Fact(cough=\"no\"),Fact(fainting=\"yes\"),Fact(sore_throat=\"no\"),Fact(fatigue=\"no\"),Fact(restlessness=\"no\"),Fact(low_body_temp=\"yes\"),Fact(fever=\"no\"),Fact(sunken_eyes=\"no\"),Fact(nausea=\"no\"),Fact(blurred_vision=\"no\"))\n",
        "\tdef toy_12(self):\n",
        "\t\tself.declare(Fact(toy=\"Hypothermia\"))\n",
        "\n",
        "\t@Rule(Fact(action='find_toy'),Fact(toy=MATCH.toy),salience = -998)\n",
        "\tdef toy(self, toy):\n",
        "\t\tprint(\"\")\n",
        "\t\tid_toy = toy\n",
        "\t\ttoy_details = get_details(id_toy)\n",
        "\t\ttreatments = get_treatments(id_toy)\n",
        "\t\tprint(\"\")\n",
        "\t\tprint(\"The most probable toy that you have is %s\\n\" %(id_toy))\n",
        "\t\tprint(\"A short description of the toy is given below :\\n\")\n",
        "\t\tprint(toy_details+\"\\n\")\n",
        "\t\tprint(\"The common medications and procedures suggested by other real doctors are: \\n\")\n",
        "\t\tprint(treatments+\"\\n\")\n",
        "\n",
        "\t@Rule(Fact(action='find_toy'),\n",
        "\t\t  Fact(headache=MATCH.headache),\n",
        "\t\t  Fact(back_pain=MATCH.back_pain),\n",
        "\t\t  Fact(chest_pain=MATCH.chest_pain),\n",
        "\t\t  Fact(cough=MATCH.cough),\n",
        "\t\t  Fact(fainting=MATCH.fainting),\n",
        "\t\t  Fact(sore_throat=MATCH.sore_throat),\n",
        "\t\t  Fact(fatigue=MATCH.fatigue),\n",
        "\t\t  Fact(low_body_temp=MATCH.low_body_temp),\n",
        "\t\t  Fact(restlessness=MATCH.restlessness),\n",
        "\t\t  Fact(fever=MATCH.fever),\n",
        "\t\t  Fact(sunken_eyes=MATCH.sunken_eyes),\n",
        "\t\t  Fact(nausea=MATCH.nausea),\n",
        "\t\t  Fact(blurred_vision=MATCH.blurred_vision),NOT(Fact(toy=MATCH.toy)),salience = -999)\n",
        "\n",
        "\tdef not_matched(self,headache, back_pain, chest_pain, cough, fainting, sore_throat, fatigue, restlessness,low_body_temp ,fever ,sunken_eyes ,nausea ,blurred_vision):\n",
        "\t\tprint(\"\\nDid not find any toy that matches your exact symptoms\")\n",
        "\t\tlis = [headache, back_pain, chest_pain, cough, fainting, sore_throat, fatigue, restlessness,low_body_temp ,fever ,sunken_eyes ,nausea ,blurred_vision]\n",
        "\t\tmax_count = 0\n",
        "\t\tmax_toy = \"\"\n",
        "\t\tfor key,val in symptom_map.items():\n",
        "\t\t\tcount = 0\n",
        "\t\t\ttemp_list = eval(key)\n",
        "\t\t\tfor j in range(0,len(lis)):\n",
        "\t\t\t\tif(temp_list[j] == lis[j] and lis[j] == \"yes\"):\n",
        "\t\t\t\t\tcount = count + 1\n",
        "\t\t\tif count > max_count:\n",
        "\t\t\t\tmax_count = count\n",
        "\t\t\t\tmax_toy = val\n",
        "\t\tif_not_matched(max_toy)"
      ]
    },
    {
      "cell_type": "markdown",
      "metadata": {
        "id": "2LMGaVEWwf_p"
      },
      "source": [
        "Run the knowledge system"
      ]
    },
    {
      "cell_type": "code",
      "execution_count": null,
      "metadata": {
        "colab": {
          "base_uri": "https://localhost:8080/",
          "height": 684
        },
        "id": "lqorUfmIwiR2",
        "outputId": "ce2b5870-5d23-4736-f871-fa6741ba5daa"
      },
      "outputs": [],
      "source": [
        "if __name__ == \"__main__\":\n",
        "\tpreprocess()\n",
        "\tengine = Greetings()\n",
        "\twhile(1):\n",
        "\t\tengine.reset()  # Prepare the engine for the execution.\n",
        "\t\tengine.run()  # Run it!\n",
        "\t\tprint(\"Would you like to diagnose some other symptoms?\")\n",
        "\t\tif input() == \"no\":\n",
        "\t\t\texit()\n",
        "\t\t#print(engine.facts)"
      ]
    }
  ],
  "metadata": {
    "colab": {
      "name": "pyknow.ipynb",
      "provenance": []
    },
    "kernelspec": {
      "display_name": "Python 3",
      "name": "python3"
    },
    "language_info": {
      "codemirror_mode": {
        "name": "ipython",
        "version": 3
      },
      "file_extension": ".py",
      "mimetype": "text/x-python",
      "name": "python",
      "nbconvert_exporter": "python",
      "pygments_lexer": "ipython3",
      "version": "3.10.4"
    }
  },
  "nbformat": 4,
  "nbformat_minor": 0
}
